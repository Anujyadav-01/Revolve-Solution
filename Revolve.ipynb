{
 "cells": [
  {
   "cell_type": "code",
   "execution_count": 1,
   "id": "584ab889",
   "metadata": {},
   "outputs": [],
   "source": [
    "import pandas as pd\n",
    "import numpy as np\n",
    "import os"
   ]
  },
  {
   "cell_type": "markdown",
   "id": "62fdaf67",
   "metadata": {},
   "source": [
    "## How many total number of days does the flights table cover?"
   ]
  },
  {
   "cell_type": "code",
   "execution_count": 2,
   "id": "f49985cf",
   "metadata": {},
   "outputs": [
    {
     "name": "stdout",
     "output_type": "stream",
     "text": [
      "please enter the path of flights csv: C:\\Users\\Krishna\\Downloads\\data\\data\\flights.csv\n",
      "********************************************\n",
      "How many total number of days does the flights table cover?\n",
      "dep_time    365\n",
      "dtype: int64\n"
     ]
    }
   ],
   "source": [
    "csv_filepath = input(\"please enter the path of flights csv: \")\n",
    "\n",
    "while not os.path.isfile(csv_filepath):\n",
    "    print(\"Error: that is not a valid file, try again...\")\n",
    "    csv_filepath = input(\"Please enter a valid path to a csv: \")\n",
    "\n",
    "try:\n",
    "    df_flights = pd.read_csv(csv_filepath)\n",
    "    # print(df)\n",
    "    print(\"********************************************\")\n",
    "    print(\"How many total number of days does the flights table cover?\")\n",
    "    df_flights_date = df_flights.groupby([\"day\", \"month\", \"year\"]).agg({\"dep_time\": sum})\n",
    "    print(df_flights_date.count())\n",
    "\n",
    "except BaseException as exception:\n",
    "    print(f\"An exception occurred:{exception}\")"
   ]
  },
  {
   "cell_type": "markdown",
   "id": "04b09824",
   "metadata": {},
   "source": [
    "## How many departure cities (not airports) does the flights database cover?"
   ]
  },
  {
   "cell_type": "code",
   "execution_count": 3,
   "id": "2c02c30c",
   "metadata": {},
   "outputs": [
    {
     "name": "stdout",
     "output_type": "stream",
     "text": [
      "please enter the path of flights csv: C:\\Users\\Krishna\\Downloads\\data\\data\\flights.csv\n",
      "please enter the path of airports csv: C:\\Users\\Krishna\\Downloads\\data\\data\\airports.csv\n",
      "********************************************\n",
      "How many departure cities (not airports) does the flights database cover?\n",
      "['Newark' 'New York']\n"
     ]
    }
   ],
   "source": [
    "csv_filepath = input(\"please enter the path of flights csv: \")\n",
    "csv_filepath_01 = input(\"please enter the path of airports csv: \")\n",
    "\n",
    "while not os.path.isfile(csv_filepath):\n",
    "    print(\"Error: that is not a valid file, try again...\")\n",
    "    csv_filepath = input(\"Please enter a valid path to a csv: \")\n",
    "\n",
    "try:\n",
    "    df_flights = pd.read_csv(csv_filepath)\n",
    "    df_airports = pd.read_csv(csv_filepath_01)\n",
    "    # print(df)\n",
    "    print(\"********************************************\")\n",
    "    print(\"How many departure cities (not airports) does the flights database cover?\")\n",
    "    df_dep_city = df_airports[[\"IATA_CODE\", \"CITY\"]]\n",
    "    df_dep_city.columns = [\"origin\", \"origin_CITY\"]\n",
    "    df_city = pd.merge(df_flights, df_dep_city, how=\"left\")\n",
    "    print(df_city.origin_CITY.unique())\n",
    "\n",
    "except BaseException as exception:\n",
    "    print(f\"An exception occurred:{exception}\")"
   ]
  },
  {
   "cell_type": "markdown",
   "id": "40e38c5d",
   "metadata": {},
   "source": [
    "## What is the relationship between flights and planes tables?"
   ]
  },
  {
   "cell_type": "code",
   "execution_count": 4,
   "id": "5032f637",
   "metadata": {},
   "outputs": [
    {
     "name": "stdout",
     "output_type": "stream",
     "text": [
      "please enter the path of flights csv: C:\\Users\\Krishna\\Downloads\\data\\data\\flights.csv\n",
      "please enter the path of planes csv: C:\\Users\\Krishna\\Downloads\\data\\data\\planes.csv\n",
      "********************************************\n",
      "What is the relationship between flights and planes tables?\n",
      "['year', 'tailnum']\n"
     ]
    }
   ],
   "source": [
    "csv_filepath = input(\"please enter the path of flights csv: \")\n",
    "csv_filepath_01 = input(\"please enter the path of planes csv: \")\n",
    "\n",
    "while not os.path.isfile(csv_filepath):\n",
    "    print(\"Error: that is not a valid file, try again...\")\n",
    "    csv_filepath = input(\"Please enter a valid path to a csv: \")\n",
    "\n",
    "try:\n",
    "    df_flights = pd.read_csv(csv_filepath)\n",
    "    df_planes = pd.read_csv(csv_filepath_01)\n",
    "    # print(df)\n",
    "    print(\"********************************************\")\n",
    "    print(\"What is the relationship between flights and planes tables?\")\n",
    "    relationship = [\n",
    "        relation for relation in df_flights if relation in df_planes]\n",
    "    print(relationship)\n",
    "\n",
    "except BaseException as exception:\n",
    "    print(f\"An exception occurred:{exception}\")"
   ]
  },
  {
   "cell_type": "markdown",
   "id": "6e58f598",
   "metadata": {},
   "source": [
    "## Which airplane manufacturer incurred the most delays in the analysis period?"
   ]
  },
  {
   "cell_type": "code",
   "execution_count": null,
   "id": "c28e0088",
   "metadata": {},
   "outputs": [],
   "source": [
    "csv_filepath = input(\"please enter the path of flights csv: \")\n",
    "csv_filepath_01 = input(\"please enter the path of planes csv: \")\n",
    "\n",
    "while not os.path.isfile(csv_filepath):\n",
    "    print(\"Error: that is not a valid file, try again...\")\n",
    "    csv_filepath = input(\"Please enter a valid path to a csv: \")\n",
    "\n",
    "try:\n",
    "    df_flights = pd.read_csv(csv_filepath)\n",
    "    df_planes = pd.read_csv(csv_filepath_01)\n",
    "    # print(df)\n",
    "    print(\"********************************************\")\n",
    "    print(\n",
    "        \"Which airplane manufacturer incurred the most delays in the analysis period?\"\n",
    "    )\n",
    "    df_flights_planes = pd.merge(df_flights, df_planes, how=\"left\")\n",
    "    df_flights_planes_01 = df_flights_planes.groupby([\"manufacturer\"]).agg({\"dep_delay\": sum, \"arr_delay\": sum})\n",
    "    df_flights_planes_01.reset_index(inplace=True)\n",
    "    df_flights_planes_01[\"total_delays\"] = (\n",
    "        df_flights_planes_01[\"dep_delay\"] + df_flights_planes_01[\"arr_delay\"]\n",
    "    )\n",
    "    print(df_flights_planes_01[[\"manufacturer\"]].max())\n",
    "\n",
    "except BaseException as exception:\n",
    "    print(f\"An exception occurred:{exception}\")"
   ]
  },
  {
   "cell_type": "markdown",
   "id": "48c6abb1",
   "metadata": {},
   "source": [
    "## Which are the two most connected cities?"
   ]
  },
  {
   "cell_type": "code",
   "execution_count": null,
   "id": "40138922",
   "metadata": {},
   "outputs": [],
   "source": [
    "csv_filepath = input(\"please enter the path of flights csv: \")\n",
    "csv_filepath_01 = input(\"please enter the path of airports csv: \")\n",
    "\n",
    "while not os.path.isfile(csv_filepath):\n",
    "    print(\"Error: that is not a valid file, try again...\")\n",
    "    csv_filepath = input(\"Please enter a valid path to a csv: \")\n",
    "\n",
    "try:\n",
    "    df_flights = pd.read_csv(csv_filepath)\n",
    "    df_airports = pd.read_csv(csv_filepath_01)\n",
    "    print(\"********************************************\")\n",
    "    print(\"Which are the two most connected cities?\")\n",
    "    df_dep_city = df_airports[[\"IATA_CODE\", \"CITY\"]]\n",
    "    df_dep_city.columns = [\"origin\", \"origin_CITY\"]\n",
    "    df_city = pd.merge(df_flights, df_dep_city, how=\"left\")\n",
    "    df_arr_city = df_airports[[\"IATA_CODE\", \"CITY\"]]\n",
    "    df_arr_city.columns = [\"dest\", \"dest_CITY\"]\n",
    "    df_city = pd.merge(df_city, df_arr_city, how=\"left\")\n",
    "    df_city[\"city\"] = 1\n",
    "    df_final = (\n",
    "        df_city.groupby([\"origin_CITY\", \"dest_CITY\"]).agg({\"city\": sum}).sort_values(by=\"city\", ascending=False)\n",
    "    )\n",
    "    print(df_final.iloc[0])\n",
    "\n",
    "except BaseException as exception:\n",
    "    print(f\"An exception occurred:{exception}\")"
   ]
  },
  {
   "cell_type": "code",
   "execution_count": null,
   "id": "3795829e",
   "metadata": {},
   "outputs": [],
   "source": [
    "    "
   ]
  },
  {
   "cell_type": "code",
   "execution_count": null,
   "id": "04cc0048",
   "metadata": {},
   "outputs": [],
   "source": []
  }
 ],
 "metadata": {
  "kernelspec": {
   "display_name": "revolve",
   "language": "python",
   "name": "revolve"
  },
  "language_info": {
   "codemirror_mode": {
    "name": "ipython",
    "version": 3
   },
   "file_extension": ".py",
   "mimetype": "text/x-python",
   "name": "python",
   "nbconvert_exporter": "python",
   "pygments_lexer": "ipython3",
   "version": "3.10.0"
  }
 },
 "nbformat": 4,
 "nbformat_minor": 5
}
